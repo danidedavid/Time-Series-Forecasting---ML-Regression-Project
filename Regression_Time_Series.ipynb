{
 "cells": [
  {
   "cell_type": "markdown",
   "metadata": {},
   "source": [
    "# Project Title: \n",
    "Store Sales - Time Series Forecasting"
   ]
  },
  {
   "cell_type": "markdown",
   "metadata": {},
   "source": [
    "# Business Understanding"
   ]
  },
  {
   "cell_type": "markdown",
   "metadata": {},
   "source": [
    "## 1. Introduction\n",
    "This project focuses on time series forecasting to predict store sales for Corporation Favorita, a large Ecuadorian-based grocery retailer. The objective is to build a model that accurately predicts the unit sales for thousands of items sold at different Favorita stores.\n",
    "\n",
    "\n",
    "### 1.1. Objectives\n",
    "Understand the data: The first objective is to gain insights into the store sales data, including store-specific information, product families, promotions, and sales numbers. This understanding will enable the company to make informed business decisions.\n",
    "\n",
    "Predict store sales: Develop a reliable time series forecasting model that accurately predicts the unit sales for different product families at various Favorita stores. This will help the company optimize inventory management, plan promotions, and improve overall sales performance.\n",
    "\n",
    "### 1.2. Methodology\n",
    "To achieve the objectives, we will follow a structured approach:\n",
    "\n",
    "Data Exploration: Thoroughly explore the provided datasets to understand the available features, their distributions, and relationships. This step will provide initial insights into the store sales data and help identify any data quality issues.\n",
    "\n",
    "Data Preparation: Handle missing values, perform feature engineering, and encode categorical variables as necessary. This step may involve techniques like imputation, scaling, and one-hot encoding.\n",
    "\n",
    "Time Series Analysis: Analyze the temporal aspects of the data, including trends, seasonality, and potential outliers. This analysis will provide a deeper understanding of the underlying patterns in store sales over time.\n",
    "\n",
    "Model Selection and Training: Select appropriate time series forecasting models and train them using the prepared data. Consider incorporating external factors like promotions, holidays, and oil prices, if available, to enhance the forecasting accuracy.\n",
    "\n",
    "Model Evaluation: Evaluate the trained models using appropriate metrics, such as mean absolute error (MAE), root mean squared error (RMSE), or mean absolute percentage error (MAPE). Assess the models' performance and identify the most accurate and reliable forecasting model.\n",
    "\n",
    "Model Deployment and Forecasting: Deploy the chosen model to predict store sales for future time periods, leveraging the provided test dataset. Generate forecasts for the target period and assess the model's ability to capture the sales patterns accurately.\n",
    "\n",
    "By following this methodology, we aim to provide valuable insights to the telecom company and develop a reliable predictive model for customer churn."
   ]
  },
  {
   "cell_type": "markdown",
   "metadata": {},
   "source": [
    "# Setup"
   ]
  },
  {
   "cell_type": "markdown",
   "metadata": {},
   "source": [
    "## Installations"
   ]
  },
  {
   "cell_type": "code",
   "execution_count": 1,
   "metadata": {},
   "outputs": [],
   "source": [
    "# %pip install pyodbc"
   ]
  },
  {
   "cell_type": "markdown",
   "metadata": {},
   "source": [
    "## Importation"
   ]
  },
  {
   "cell_type": "code",
   "execution_count": 2,
   "metadata": {},
   "outputs": [],
   "source": [
    "# Data Handling\n",
    "import pyodbc\n",
    "from dotenv import dotenv_values\n",
    "import numpy as np\n",
    "import pandas as pd\n",
    "from sklearn.impute import SimpleImputer\n",
    "\n",
    "\n",
    "# Visualization\n",
    "import matplotlib.pyplot as plt\n",
    "import matplotlib.cm as cm\n",
    "import matplotlib.patches as mpatches\n",
    "import seaborn as sns\n",
    "\n",
    "\n",
    "# Other Packages\n",
    "import warnings\n",
    "\n",
    "warnings.filterwarnings(\"ignore\")"
   ]
  },
  {
   "cell_type": "markdown",
   "metadata": {},
   "source": [
    "## Data Loading"
   ]
  },
  {
   "cell_type": "markdown",
   "metadata": {},
   "source": [
    "### Loading the data from SQL database"
   ]
  },
  {
   "cell_type": "code",
   "execution_count": 3,
   "metadata": {},
   "outputs": [],
   "source": [
    "# Load environment variables from the .env file into a dictionary\n",
    "environment_vars = dotenv_values('.env')\n",
    "\n",
    "# Get the credential values from the '.env' file \n",
    "server = environment_vars.get(\"SERVER\")\n",
    "database = environment_vars.get(\"DATABASE\")\n",
    "username = environment_vars.get(\"USERNAME\")\n",
    "password = environment_vars.get(\"PASSWORD\")\n",
    "\n",
    "# Create the connection string using the ODBC driver format\n",
    "conn_str = f'DRIVER={{ODBC Driver 17 for SQL Server}};SERVER={server};DATABASE={database};UID={username};PWD={password}'\n",
    "\n",
    "# Establish the connection using the connection string\n",
    "conn = pyodbc.connect(conn_str)"
   ]
  },
  {
   "cell_type": "code",
   "execution_count": 4,
   "metadata": {},
   "outputs": [],
   "source": [
    "# Query the first table 'oil' in the database\n",
    "query1 = 'SELECT * FROM dbo.oil'\n",
    "oil_df = pd.read_sql(query1, conn)\n",
    "\n",
    "# Query the second table 'holidays_events' in the database\n",
    "query2 = 'SELECT * FROM dbo.holidays_events'\n",
    "holidays_events_df = pd.read_sql(query2, conn)\n",
    "\n",
    "# Query the third table 'stores' in the database\n",
    "query3 = 'SELECT * FROM dbo.stores'\n",
    "stores_df = pd.read_sql(query3, conn)"
   ]
  },
  {
   "cell_type": "code",
   "execution_count": 5,
   "metadata": {},
   "outputs": [],
   "source": [
    "# Close connection\n",
    "conn.close()"
   ]
  },
  {
   "cell_type": "code",
   "execution_count": 6,
   "metadata": {},
   "outputs": [
    {
     "data": {
      "text/html": [
       "<div>\n",
       "<style scoped>\n",
       "    .dataframe tbody tr th:only-of-type {\n",
       "        vertical-align: middle;\n",
       "    }\n",
       "\n",
       "    .dataframe tbody tr th {\n",
       "        vertical-align: top;\n",
       "    }\n",
       "\n",
       "    .dataframe thead th {\n",
       "        text-align: right;\n",
       "    }\n",
       "</style>\n",
       "<table border=\"1\" class=\"dataframe\">\n",
       "  <thead>\n",
       "    <tr style=\"text-align: right;\">\n",
       "      <th></th>\n",
       "      <th>date</th>\n",
       "      <th>dcoilwtico</th>\n",
       "    </tr>\n",
       "  </thead>\n",
       "  <tbody>\n",
       "    <tr>\n",
       "      <th>0</th>\n",
       "      <td>2013-01-01</td>\n",
       "      <td>NaN</td>\n",
       "    </tr>\n",
       "    <tr>\n",
       "      <th>1</th>\n",
       "      <td>2013-01-02</td>\n",
       "      <td>93.139999</td>\n",
       "    </tr>\n",
       "    <tr>\n",
       "      <th>2</th>\n",
       "      <td>2013-01-03</td>\n",
       "      <td>92.970001</td>\n",
       "    </tr>\n",
       "    <tr>\n",
       "      <th>3</th>\n",
       "      <td>2013-01-04</td>\n",
       "      <td>93.120003</td>\n",
       "    </tr>\n",
       "    <tr>\n",
       "      <th>4</th>\n",
       "      <td>2013-01-07</td>\n",
       "      <td>93.199997</td>\n",
       "    </tr>\n",
       "  </tbody>\n",
       "</table>\n",
       "</div>"
      ],
      "text/plain": [
       "         date  dcoilwtico\n",
       "0  2013-01-01         NaN\n",
       "1  2013-01-02   93.139999\n",
       "2  2013-01-03   92.970001\n",
       "3  2013-01-04   93.120003\n",
       "4  2013-01-07   93.199997"
      ]
     },
     "execution_count": 6,
     "metadata": {},
     "output_type": "execute_result"
    }
   ],
   "source": [
    "# Display the dataframe\n",
    "oil_df.head()"
   ]
  },
  {
   "cell_type": "code",
   "execution_count": 7,
   "metadata": {},
   "outputs": [
    {
     "data": {
      "text/html": [
       "<div>\n",
       "<style scoped>\n",
       "    .dataframe tbody tr th:only-of-type {\n",
       "        vertical-align: middle;\n",
       "    }\n",
       "\n",
       "    .dataframe tbody tr th {\n",
       "        vertical-align: top;\n",
       "    }\n",
       "\n",
       "    .dataframe thead th {\n",
       "        text-align: right;\n",
       "    }\n",
       "</style>\n",
       "<table border=\"1\" class=\"dataframe\">\n",
       "  <thead>\n",
       "    <tr style=\"text-align: right;\">\n",
       "      <th></th>\n",
       "      <th>date</th>\n",
       "      <th>type</th>\n",
       "      <th>locale</th>\n",
       "      <th>locale_name</th>\n",
       "      <th>description</th>\n",
       "      <th>transferred</th>\n",
       "    </tr>\n",
       "  </thead>\n",
       "  <tbody>\n",
       "    <tr>\n",
       "      <th>0</th>\n",
       "      <td>2012-03-02</td>\n",
       "      <td>Holiday</td>\n",
       "      <td>Local</td>\n",
       "      <td>Manta</td>\n",
       "      <td>Fundacion de Manta</td>\n",
       "      <td>False</td>\n",
       "    </tr>\n",
       "    <tr>\n",
       "      <th>1</th>\n",
       "      <td>2012-04-01</td>\n",
       "      <td>Holiday</td>\n",
       "      <td>Regional</td>\n",
       "      <td>Cotopaxi</td>\n",
       "      <td>Provincializacion de Cotopaxi</td>\n",
       "      <td>False</td>\n",
       "    </tr>\n",
       "    <tr>\n",
       "      <th>2</th>\n",
       "      <td>2012-04-12</td>\n",
       "      <td>Holiday</td>\n",
       "      <td>Local</td>\n",
       "      <td>Cuenca</td>\n",
       "      <td>Fundacion de Cuenca</td>\n",
       "      <td>False</td>\n",
       "    </tr>\n",
       "    <tr>\n",
       "      <th>3</th>\n",
       "      <td>2012-04-14</td>\n",
       "      <td>Holiday</td>\n",
       "      <td>Local</td>\n",
       "      <td>Libertad</td>\n",
       "      <td>Cantonizacion de Libertad</td>\n",
       "      <td>False</td>\n",
       "    </tr>\n",
       "    <tr>\n",
       "      <th>4</th>\n",
       "      <td>2012-04-21</td>\n",
       "      <td>Holiday</td>\n",
       "      <td>Local</td>\n",
       "      <td>Riobamba</td>\n",
       "      <td>Cantonizacion de Riobamba</td>\n",
       "      <td>False</td>\n",
       "    </tr>\n",
       "  </tbody>\n",
       "</table>\n",
       "</div>"
      ],
      "text/plain": [
       "         date     type    locale locale_name                    description  \\\n",
       "0  2012-03-02  Holiday     Local       Manta             Fundacion de Manta   \n",
       "1  2012-04-01  Holiday  Regional    Cotopaxi  Provincializacion de Cotopaxi   \n",
       "2  2012-04-12  Holiday     Local      Cuenca            Fundacion de Cuenca   \n",
       "3  2012-04-14  Holiday     Local    Libertad      Cantonizacion de Libertad   \n",
       "4  2012-04-21  Holiday     Local    Riobamba      Cantonizacion de Riobamba   \n",
       "\n",
       "   transferred  \n",
       "0        False  \n",
       "1        False  \n",
       "2        False  \n",
       "3        False  \n",
       "4        False  "
      ]
     },
     "execution_count": 7,
     "metadata": {},
     "output_type": "execute_result"
    }
   ],
   "source": [
    "# Display the dataframe\n",
    "holidays_events_df.head()"
   ]
  },
  {
   "cell_type": "code",
   "execution_count": 8,
   "metadata": {},
   "outputs": [
    {
     "data": {
      "text/html": [
       "<div>\n",
       "<style scoped>\n",
       "    .dataframe tbody tr th:only-of-type {\n",
       "        vertical-align: middle;\n",
       "    }\n",
       "\n",
       "    .dataframe tbody tr th {\n",
       "        vertical-align: top;\n",
       "    }\n",
       "\n",
       "    .dataframe thead th {\n",
       "        text-align: right;\n",
       "    }\n",
       "</style>\n",
       "<table border=\"1\" class=\"dataframe\">\n",
       "  <thead>\n",
       "    <tr style=\"text-align: right;\">\n",
       "      <th></th>\n",
       "      <th>store_nbr</th>\n",
       "      <th>city</th>\n",
       "      <th>state</th>\n",
       "      <th>type</th>\n",
       "      <th>cluster</th>\n",
       "    </tr>\n",
       "  </thead>\n",
       "  <tbody>\n",
       "    <tr>\n",
       "      <th>0</th>\n",
       "      <td>1</td>\n",
       "      <td>Quito</td>\n",
       "      <td>Pichincha</td>\n",
       "      <td>D</td>\n",
       "      <td>13</td>\n",
       "    </tr>\n",
       "    <tr>\n",
       "      <th>1</th>\n",
       "      <td>2</td>\n",
       "      <td>Quito</td>\n",
       "      <td>Pichincha</td>\n",
       "      <td>D</td>\n",
       "      <td>13</td>\n",
       "    </tr>\n",
       "    <tr>\n",
       "      <th>2</th>\n",
       "      <td>3</td>\n",
       "      <td>Quito</td>\n",
       "      <td>Pichincha</td>\n",
       "      <td>D</td>\n",
       "      <td>8</td>\n",
       "    </tr>\n",
       "    <tr>\n",
       "      <th>3</th>\n",
       "      <td>4</td>\n",
       "      <td>Quito</td>\n",
       "      <td>Pichincha</td>\n",
       "      <td>D</td>\n",
       "      <td>9</td>\n",
       "    </tr>\n",
       "    <tr>\n",
       "      <th>4</th>\n",
       "      <td>5</td>\n",
       "      <td>Santo Domingo</td>\n",
       "      <td>Santo Domingo de los Tsachilas</td>\n",
       "      <td>D</td>\n",
       "      <td>4</td>\n",
       "    </tr>\n",
       "  </tbody>\n",
       "</table>\n",
       "</div>"
      ],
      "text/plain": [
       "   store_nbr           city                           state type  cluster\n",
       "0          1          Quito                       Pichincha    D       13\n",
       "1          2          Quito                       Pichincha    D       13\n",
       "2          3          Quito                       Pichincha    D        8\n",
       "3          4          Quito                       Pichincha    D        9\n",
       "4          5  Santo Domingo  Santo Domingo de los Tsachilas    D        4"
      ]
     },
     "execution_count": 8,
     "metadata": {},
     "output_type": "execute_result"
    }
   ],
   "source": [
    "# Display the dataframe\n",
    "stores_df.head()"
   ]
  },
  {
   "cell_type": "markdown",
   "metadata": {},
   "source": [
    "### Loading the Train and Test Datasets"
   ]
  },
  {
   "cell_type": "markdown",
   "metadata": {},
   "source": [
    "#### Train Dataset"
   ]
  },
  {
   "cell_type": "code",
   "execution_count": 9,
   "metadata": {},
   "outputs": [
    {
     "data": {
      "text/html": [
       "<div>\n",
       "<style scoped>\n",
       "    .dataframe tbody tr th:only-of-type {\n",
       "        vertical-align: middle;\n",
       "    }\n",
       "\n",
       "    .dataframe tbody tr th {\n",
       "        vertical-align: top;\n",
       "    }\n",
       "\n",
       "    .dataframe thead th {\n",
       "        text-align: right;\n",
       "    }\n",
       "</style>\n",
       "<table border=\"1\" class=\"dataframe\">\n",
       "  <thead>\n",
       "    <tr style=\"text-align: right;\">\n",
       "      <th></th>\n",
       "      <th>id</th>\n",
       "      <th>date</th>\n",
       "      <th>store_nbr</th>\n",
       "      <th>family</th>\n",
       "      <th>sales</th>\n",
       "      <th>onpromotion</th>\n",
       "    </tr>\n",
       "  </thead>\n",
       "  <tbody>\n",
       "    <tr>\n",
       "      <th>0</th>\n",
       "      <td>0</td>\n",
       "      <td>2013-01-01</td>\n",
       "      <td>1</td>\n",
       "      <td>AUTOMOTIVE</td>\n",
       "      <td>0.0</td>\n",
       "      <td>0</td>\n",
       "    </tr>\n",
       "    <tr>\n",
       "      <th>1</th>\n",
       "      <td>1</td>\n",
       "      <td>2013-01-01</td>\n",
       "      <td>1</td>\n",
       "      <td>BABY CARE</td>\n",
       "      <td>0.0</td>\n",
       "      <td>0</td>\n",
       "    </tr>\n",
       "    <tr>\n",
       "      <th>2</th>\n",
       "      <td>2</td>\n",
       "      <td>2013-01-01</td>\n",
       "      <td>1</td>\n",
       "      <td>BEAUTY</td>\n",
       "      <td>0.0</td>\n",
       "      <td>0</td>\n",
       "    </tr>\n",
       "    <tr>\n",
       "      <th>3</th>\n",
       "      <td>3</td>\n",
       "      <td>2013-01-01</td>\n",
       "      <td>1</td>\n",
       "      <td>BEVERAGES</td>\n",
       "      <td>0.0</td>\n",
       "      <td>0</td>\n",
       "    </tr>\n",
       "    <tr>\n",
       "      <th>4</th>\n",
       "      <td>4</td>\n",
       "      <td>2013-01-01</td>\n",
       "      <td>1</td>\n",
       "      <td>BOOKS</td>\n",
       "      <td>0.0</td>\n",
       "      <td>0</td>\n",
       "    </tr>\n",
       "  </tbody>\n",
       "</table>\n",
       "</div>"
      ],
      "text/plain": [
       "   id        date  store_nbr      family  sales  onpromotion\n",
       "0   0  2013-01-01          1  AUTOMOTIVE    0.0            0\n",
       "1   1  2013-01-01          1   BABY CARE    0.0            0\n",
       "2   2  2013-01-01          1      BEAUTY    0.0            0\n",
       "3   3  2013-01-01          1   BEVERAGES    0.0            0\n",
       "4   4  2013-01-01          1       BOOKS    0.0            0"
      ]
     },
     "execution_count": 9,
     "metadata": {},
     "output_type": "execute_result"
    }
   ],
   "source": [
    "train_df = pd.read_csv(\"train.csv\")\n",
    "train_df.head()"
   ]
  },
  {
   "cell_type": "markdown",
   "metadata": {},
   "source": [
    "#### Test Dataset"
   ]
  },
  {
   "cell_type": "code",
   "execution_count": 10,
   "metadata": {},
   "outputs": [
    {
     "data": {
      "text/html": [
       "<div>\n",
       "<style scoped>\n",
       "    .dataframe tbody tr th:only-of-type {\n",
       "        vertical-align: middle;\n",
       "    }\n",
       "\n",
       "    .dataframe tbody tr th {\n",
       "        vertical-align: top;\n",
       "    }\n",
       "\n",
       "    .dataframe thead th {\n",
       "        text-align: right;\n",
       "    }\n",
       "</style>\n",
       "<table border=\"1\" class=\"dataframe\">\n",
       "  <thead>\n",
       "    <tr style=\"text-align: right;\">\n",
       "      <th></th>\n",
       "      <th>id</th>\n",
       "      <th>date</th>\n",
       "      <th>store_nbr</th>\n",
       "      <th>family</th>\n",
       "      <th>onpromotion</th>\n",
       "    </tr>\n",
       "  </thead>\n",
       "  <tbody>\n",
       "    <tr>\n",
       "      <th>0</th>\n",
       "      <td>3000888</td>\n",
       "      <td>2017-08-16</td>\n",
       "      <td>1</td>\n",
       "      <td>AUTOMOTIVE</td>\n",
       "      <td>0</td>\n",
       "    </tr>\n",
       "    <tr>\n",
       "      <th>1</th>\n",
       "      <td>3000889</td>\n",
       "      <td>2017-08-16</td>\n",
       "      <td>1</td>\n",
       "      <td>BABY CARE</td>\n",
       "      <td>0</td>\n",
       "    </tr>\n",
       "    <tr>\n",
       "      <th>2</th>\n",
       "      <td>3000890</td>\n",
       "      <td>2017-08-16</td>\n",
       "      <td>1</td>\n",
       "      <td>BEAUTY</td>\n",
       "      <td>2</td>\n",
       "    </tr>\n",
       "    <tr>\n",
       "      <th>3</th>\n",
       "      <td>3000891</td>\n",
       "      <td>2017-08-16</td>\n",
       "      <td>1</td>\n",
       "      <td>BEVERAGES</td>\n",
       "      <td>20</td>\n",
       "    </tr>\n",
       "    <tr>\n",
       "      <th>4</th>\n",
       "      <td>3000892</td>\n",
       "      <td>2017-08-16</td>\n",
       "      <td>1</td>\n",
       "      <td>BOOKS</td>\n",
       "      <td>0</td>\n",
       "    </tr>\n",
       "  </tbody>\n",
       "</table>\n",
       "</div>"
      ],
      "text/plain": [
       "        id        date  store_nbr      family  onpromotion\n",
       "0  3000888  2017-08-16          1  AUTOMOTIVE            0\n",
       "1  3000889  2017-08-16          1   BABY CARE            0\n",
       "2  3000890  2017-08-16          1      BEAUTY            2\n",
       "3  3000891  2017-08-16          1   BEVERAGES           20\n",
       "4  3000892  2017-08-16          1       BOOKS            0"
      ]
     },
     "execution_count": 10,
     "metadata": {},
     "output_type": "execute_result"
    }
   ],
   "source": [
    "test_df = pd.read_csv(\"test.csv\")\n",
    "test_df.head()"
   ]
  },
  {
   "cell_type": "markdown",
   "metadata": {},
   "source": [
    "### Loading the Transactions Dataset"
   ]
  },
  {
   "cell_type": "code",
   "execution_count": 11,
   "metadata": {},
   "outputs": [
    {
     "data": {
      "text/html": [
       "<div>\n",
       "<style scoped>\n",
       "    .dataframe tbody tr th:only-of-type {\n",
       "        vertical-align: middle;\n",
       "    }\n",
       "\n",
       "    .dataframe tbody tr th {\n",
       "        vertical-align: top;\n",
       "    }\n",
       "\n",
       "    .dataframe thead th {\n",
       "        text-align: right;\n",
       "    }\n",
       "</style>\n",
       "<table border=\"1\" class=\"dataframe\">\n",
       "  <thead>\n",
       "    <tr style=\"text-align: right;\">\n",
       "      <th></th>\n",
       "      <th>date</th>\n",
       "      <th>store_nbr</th>\n",
       "      <th>transactions</th>\n",
       "    </tr>\n",
       "  </thead>\n",
       "  <tbody>\n",
       "    <tr>\n",
       "      <th>0</th>\n",
       "      <td>2013-01-01</td>\n",
       "      <td>25</td>\n",
       "      <td>770</td>\n",
       "    </tr>\n",
       "    <tr>\n",
       "      <th>1</th>\n",
       "      <td>2013-01-02</td>\n",
       "      <td>1</td>\n",
       "      <td>2111</td>\n",
       "    </tr>\n",
       "    <tr>\n",
       "      <th>2</th>\n",
       "      <td>2013-01-02</td>\n",
       "      <td>2</td>\n",
       "      <td>2358</td>\n",
       "    </tr>\n",
       "    <tr>\n",
       "      <th>3</th>\n",
       "      <td>2013-01-02</td>\n",
       "      <td>3</td>\n",
       "      <td>3487</td>\n",
       "    </tr>\n",
       "    <tr>\n",
       "      <th>4</th>\n",
       "      <td>2013-01-02</td>\n",
       "      <td>4</td>\n",
       "      <td>1922</td>\n",
       "    </tr>\n",
       "  </tbody>\n",
       "</table>\n",
       "</div>"
      ],
      "text/plain": [
       "         date  store_nbr  transactions\n",
       "0  2013-01-01         25           770\n",
       "1  2013-01-02          1          2111\n",
       "2  2013-01-02          2          2358\n",
       "3  2013-01-02          3          3487\n",
       "4  2013-01-02          4          1922"
      ]
     },
     "execution_count": 11,
     "metadata": {},
     "output_type": "execute_result"
    }
   ],
   "source": [
    "transactions_df = pd.read_csv(\"transactions.csv\")\n",
    "transactions_df.head()"
   ]
  },
  {
   "cell_type": "markdown",
   "metadata": {},
   "source": [
    "# Questions and Hypothesis"
   ]
  },
  {
   "cell_type": "markdown",
   "metadata": {},
   "source": [
    "## Hypothesis\n",
    "\n",
    "The promotional activities, oil prices, and holidays/events have a significant impact on store sales for Corporation Favorita.\n",
    "\n",
    "Null Hypothesis (H0): The promotional activities, oil prices, and holidays/events do not have a significant impact on store sales for Corporation Favorita.\n",
    "\n",
    "Alternative Hypothesis (H1): The promotional activities, oil prices, and holidays/events have a significant impact on store sales for Corporation Favorita."
   ]
  },
  {
   "cell_type": "markdown",
   "metadata": {},
   "source": [
    "## Questions\n",
    "1. Is the train dataset complete, including all the required dates?\n",
    "2. Which dates have the lowest and highest sales for each year?\n",
    "3. Did the earthquake have an impact on sales?\n",
    "4. Are certain groups of stores selling more products? (Cluster, city, state, type)\n",
    "5. Are sales affected by promotions, oil prices, and holidays?\n",
    "6. What analysis can be derived from the date and its extractable features?\n",
    "7. What is the difference between RMSLE, RMSE, MSE (or why is the MAE greater than all of them?)"
   ]
  },
  {
   "cell_type": "markdown",
   "metadata": {},
   "source": [
    "Key Analytical Questions:\n",
    "\n",
    "1. How does the presence of promotional activities affect store sales?\n",
    "\n",
    "2. What is the relationship between oil prices and store sales?\n",
    "\n",
    "3. Do holidays and events influence store sales? Are there specific holidays/events that drive higher sales?\n",
    "\n",
    "4. How does the historical sales trend vary across different stores and product families?\n",
    "\n",
    "    a. Are there certain product families types that exhibit higher sales performance?\n",
    "    b. Are there any notable correlations between variables such as store size, location, or cluster, and sales performance?\n",
    "\n",
    "5. Is there any seasonality or trend (recurring patterns) in the store sales data?\n",
    "\n",
    "6. Can we identify any specific time periods or events that led to significant changes in store sales?\n",
    "\n",
    "7. How does store transaction volume (number of transactions) correlate with sales? Are there any insights to be gained from transaction data?\n",
    "\n",
    "9. Does store sales vary based on the day of the week or month of the year?"
   ]
  },
  {
   "cell_type": "markdown",
   "metadata": {},
   "source": [
    "# Exploratory Data Analysis: EDA"
   ]
  },
  {
   "cell_type": "markdown",
   "metadata": {},
   "source": [
    "## Understanding the datasets"
   ]
  },
  {
   "cell_type": "markdown",
   "metadata": {},
   "source": [
    "An in-depth exploration of the datasets is presented to gain insights into the available variables,their distributions and relationships. This step will provide an initial undertanding of the datasets to identify any data quality issues that will inform the cleaning and pre-processing."
   ]
  },
  {
   "cell_type": "markdown",
   "metadata": {},
   "source": [
    "### i. Shape of The Datasets"
   ]
  },
  {
   "cell_type": "code",
   "execution_count": 12,
   "metadata": {},
   "outputs": [
    {
     "name": "stdout",
     "output_type": "stream",
     "text": [
      "Train Dataset: (3000888, 6)\n",
      "Test Datasets: (28512, 5)\n"
     ]
    }
   ],
   "source": [
    "# Print out the shapes of the train and test datasets\n",
    "print(f\"Train Dataset: {train_df.shape}\")\n",
    "print(f\"Test Datasets: {test_df.shape}\")"
   ]
  },
  {
   "cell_type": "markdown",
   "metadata": {},
   "source": [
    "\n",
    "The train dataset contains 3,000,888 rows and 6 columns while the test dataset contains 28,512 rows and 5 columns.\n",
    "\n",
    "The train dataset is significantly larger than the test dataset in terms of the number of rows. This is expected, as the train dataset is usually larger to provide sufficient data for model training."
   ]
  },
  {
   "cell_type": "code",
   "execution_count": 13,
   "metadata": {},
   "outputs": [
    {
     "name": "stdout",
     "output_type": "stream",
     "text": [
      "Shapes of Each Dataset:\n",
      "Holiday Events Dataset: (350, 6)\n",
      "Oil Dataset: (1218, 2)\n",
      "Stores Dataset: (54, 5)\n",
      "Transactions Dataset: (83488, 3)\n"
     ]
    }
   ],
   "source": [
    "# Print out the shapes of the other datasets\n",
    "print(\"Shapes of Each Dataset:\")\n",
    "print(f\"Holiday Events Dataset: {holidays_events_df.shape}\")\n",
    "print(f\"Oil Dataset: {oil_df.shape}\")\n",
    "print(f\"Stores Dataset: {stores_df.shape}\")\n",
    "print(f\"Transactions Dataset: {transactions_df.shape}\")"
   ]
  },
  {
   "cell_type": "markdown",
   "metadata": {},
   "source": [
    "The Holiday Events dataset contains 350 rows and 6 columns. This dataset provides information about various holidays and events.\n",
    "\n",
    "The Oil dataset consists of 1,218 rows and 2 columns. This dataset includes information about the daily price of oil.\n",
    "\n",
    "The Stores dataset contains 54 rows and 5 columns. This dataset provides details about different stores, such as their locations, types, and clusters.\n",
    "\n",
    "The Transactions dataset contains 83,488 rows and 3 columns. This dataset contains information about the number of transactions made at each store on specific dates."
   ]
  },
  {
   "cell_type": "markdown",
   "metadata": {},
   "source": [
    "### ii. Column Information of The Datasets"
   ]
  },
  {
   "cell_type": "code",
   "execution_count": 14,
   "metadata": {
    "scrolled": false
   },
   "outputs": [],
   "source": [
    "# Get the column information of each dataset\n",
    "# Function to display column information of the datasets\n",
    "def show_column_info(dataset_name, dataset):\n",
    "    print(f\"Data types for the {dataset_name} dataset:\")\n",
    "    print(dataset.info())\n",
    "    print('==='*14)"
   ]
  },
  {
   "cell_type": "code",
   "execution_count": 15,
   "metadata": {},
   "outputs": [
    {
     "name": "stdout",
     "output_type": "stream",
     "text": [
      "Data types for the Train dataset:\n",
      "<class 'pandas.core.frame.DataFrame'>\n",
      "RangeIndex: 3000888 entries, 0 to 3000887\n",
      "Data columns (total 6 columns):\n",
      " #   Column       Dtype  \n",
      "---  ------       -----  \n",
      " 0   id           int64  \n",
      " 1   date         object \n",
      " 2   store_nbr    int64  \n",
      " 3   family       object \n",
      " 4   sales        float64\n",
      " 5   onpromotion  int64  \n",
      "dtypes: float64(1), int64(3), object(2)\n",
      "memory usage: 137.4+ MB\n",
      "None\n",
      "==========================================\n",
      "\n",
      "Data types for the Test dataset:\n",
      "<class 'pandas.core.frame.DataFrame'>\n",
      "RangeIndex: 28512 entries, 0 to 28511\n",
      "Data columns (total 5 columns):\n",
      " #   Column       Non-Null Count  Dtype \n",
      "---  ------       --------------  ----- \n",
      " 0   id           28512 non-null  int64 \n",
      " 1   date         28512 non-null  object\n",
      " 2   store_nbr    28512 non-null  int64 \n",
      " 3   family       28512 non-null  object\n",
      " 4   onpromotion  28512 non-null  int64 \n",
      "dtypes: int64(3), object(2)\n",
      "memory usage: 1.1+ MB\n",
      "None\n",
      "==========================================\n"
     ]
    }
   ],
   "source": [
    "# Column information of the train and test columns\n",
    "show_column_info('Train', train_df)\n",
    "print()\n",
    "show_column_info('Test', test_df)"
   ]
  },
  {
   "cell_type": "markdown",
   "metadata": {},
   "source": [
    "- The train dataset contains 3,000,888 entries and 6 columns: 'id', 'date', 'store_nbr', 'family', 'sales', and 'onpromotion'.\n",
    "- The test dataset contains 28,512 entries and 5 columns: 'id', 'date', 'store_nbr', 'family', and 'onpromotion'.\n",
    "- The \"date\" column in both datasets of type object. It needs to be converted to a datetime data type for further analysis.\n",
    "- As expected, the test dataset does not have the \"sales\" column. This column is not needed because 'sales' is the variable we want to predict. The goal is to use the trained model to predict or forecast the sales in the test data based on the other available features."
   ]
  },
  {
   "cell_type": "code",
   "execution_count": 16,
   "metadata": {},
   "outputs": [
    {
     "name": "stdout",
     "output_type": "stream",
     "text": [
      "Data types for the Holiday events dataset:\n",
      "<class 'pandas.core.frame.DataFrame'>\n",
      "RangeIndex: 350 entries, 0 to 349\n",
      "Data columns (total 6 columns):\n",
      " #   Column       Non-Null Count  Dtype \n",
      "---  ------       --------------  ----- \n",
      " 0   date         350 non-null    object\n",
      " 1   type         350 non-null    object\n",
      " 2   locale       350 non-null    object\n",
      " 3   locale_name  350 non-null    object\n",
      " 4   description  350 non-null    object\n",
      " 5   transferred  350 non-null    bool  \n",
      "dtypes: bool(1), object(5)\n",
      "memory usage: 14.1+ KB\n",
      "None\n",
      "==========================================\n",
      "\n",
      "Data types for the Oil dataset:\n",
      "<class 'pandas.core.frame.DataFrame'>\n",
      "RangeIndex: 1218 entries, 0 to 1217\n",
      "Data columns (total 2 columns):\n",
      " #   Column      Non-Null Count  Dtype  \n",
      "---  ------      --------------  -----  \n",
      " 0   date        1218 non-null   object \n",
      " 1   dcoilwtico  1175 non-null   float64\n",
      "dtypes: float64(1), object(1)\n",
      "memory usage: 19.2+ KB\n",
      "None\n",
      "==========================================\n",
      "\n",
      "Data types for the Stores dataset:\n",
      "<class 'pandas.core.frame.DataFrame'>\n",
      "RangeIndex: 54 entries, 0 to 53\n",
      "Data columns (total 5 columns):\n",
      " #   Column     Non-Null Count  Dtype \n",
      "---  ------     --------------  ----- \n",
      " 0   store_nbr  54 non-null     int64 \n",
      " 1   city       54 non-null     object\n",
      " 2   state      54 non-null     object\n",
      " 3   type       54 non-null     object\n",
      " 4   cluster    54 non-null     int64 \n",
      "dtypes: int64(2), object(3)\n",
      "memory usage: 2.2+ KB\n",
      "None\n",
      "==========================================\n",
      "\n",
      "Data types for the Transactions dataset:\n",
      "<class 'pandas.core.frame.DataFrame'>\n",
      "RangeIndex: 83488 entries, 0 to 83487\n",
      "Data columns (total 3 columns):\n",
      " #   Column        Non-Null Count  Dtype \n",
      "---  ------        --------------  ----- \n",
      " 0   date          83488 non-null  object\n",
      " 1   store_nbr     83488 non-null  int64 \n",
      " 2   transactions  83488 non-null  int64 \n",
      "dtypes: int64(2), object(1)\n",
      "memory usage: 1.9+ MB\n",
      "None\n",
      "==========================================\n"
     ]
    }
   ],
   "source": [
    "# Column information of the other datasets\n",
    "show_column_info('Holiday events', holidays_events_df)\n",
    "print()\n",
    "show_column_info('Oil', oil_df)\n",
    "print()\n",
    "show_column_info('Stores', stores_df)\n",
    "print()\n",
    "show_column_info('Transactions', transactions_df)"
   ]
  },
  {
   "cell_type": "markdown",
   "metadata": {},
   "source": [
    "##### The Holiday Events Dataset:\n",
    "- The dataset contains 350 entries and 6 columns: 'date', 'type', 'locale', 'locale_name', 'description', and 'transferred'.\n",
    "- The \"date\" column in the dataset is of type object. It needs to be converted to a datetime data type for further analysis.\n",
    "\n",
    "##### The Oil Dataset:\n",
    "- The dataset contains 1,218 entries has 2 columns: 'date' and 'dcoilwtico'.\n",
    "- The \"date\" column in the dataset is of type object. It needs to be converted to a datetime data type for further analysis.\n",
    "- The 'dcoilwtico' column has 1,175 non-null values, indicating that there are some missing values in this column.\n",
    "\n",
    "##### The Stores dataset:\n",
    "- The dataset contains 54 entries and 5 columns: 'store_nbr', 'city', 'state', 'type', and 'cluster'.\n",
    "\n",
    "##### The Transactions dataset:\n",
    "- The dataset contains 83,488 entries and 3 columns: 'date', 'store_nbr', and 'transactions'.\n",
    "- The \"date\" column in the dataset is of type object. It needs to be converted to a datetime data type for further analysis."
   ]
  },
  {
   "cell_type": "markdown",
   "metadata": {},
   "source": [
    "### iii. Transforming the 'date' column to datetime format"
   ]
  },
  {
   "cell_type": "code",
   "execution_count": 17,
   "metadata": {},
   "outputs": [],
   "source": [
    "# Converting the 'date' column in the datasets to datetime format\n",
    "# Train dataset\n",
    "train_df['date'] = pd.to_datetime(train_df['date'])\n",
    "\n",
    "# Test dataset\n",
    "test_df['date'] = pd.to_datetime(test_df['date'])\n",
    "\n",
    "# Holiday Events dataset\n",
    "holidays_events_df['date'] = pd.to_datetime(holidays_events_df['date'])\n",
    "\n",
    "# Oil dataset\n",
    "oil_df['date'] = pd.to_datetime(oil_df['date'])\n",
    "\n",
    "# Transactions dataset\n",
    "transactions_df['date'] = pd.to_datetime(transactions_df['date'])"
   ]
  },
  {
   "cell_type": "code",
   "execution_count": 18,
   "metadata": {},
   "outputs": [
    {
     "name": "stdout",
     "output_type": "stream",
     "text": [
      "Date Column Data Type After Transformation:\n",
      "==========================================\n",
      "Train dataset: datetime64[ns]\n",
      "Test dataset: datetime64[ns]\n",
      "Holiday Events dataset: datetime64[ns]\n",
      "Oil dataset: datetime64[ns]\n",
      "Transactions dataset: datetime64[ns]\n"
     ]
    }
   ],
   "source": [
    "# Confirm the data type of the 'date' column after transformation\n",
    "print('Date Column Data Type After Transformation:') \n",
    "print('==='*14)\n",
    "print(\"Train dataset:\", train_df['date'].dtype)\n",
    "print(\"Test dataset:\", test_df['date'].dtype)\n",
    "print(\"Holiday Events dataset:\", holidays_events_df['date'].dtype)\n",
    "print(\"Oil dataset:\", oil_df['date'].dtype)\n",
    "print(\"Transactions dataset:\", transactions_df['date'].dtype)"
   ]
  },
  {
   "cell_type": "markdown",
   "metadata": {},
   "source": [
    "The 'date' columns in all datasets are formatted correctly."
   ]
  },
  {
   "cell_type": "markdown",
   "metadata": {},
   "source": [
    "### iv. Summary statistics of the datasets"
   ]
  },
  {
   "cell_type": "code",
   "execution_count": 19,
   "metadata": {
    "scrolled": false
   },
   "outputs": [
    {
     "name": "stdout",
     "output_type": "stream",
     "text": [
      "Train dataset summary statistics:\n",
      "---------------------------------------------\n",
      "                 id     store_nbr         sales   onpromotion\n",
      "count  3.000888e+06  3.000888e+06  3.000888e+06  3.000888e+06\n",
      "mean   1.500444e+06  2.750000e+01  3.577757e+02  2.602770e+00\n",
      "std    8.662819e+05  1.558579e+01  1.101998e+03  1.221888e+01\n",
      "min    0.000000e+00  1.000000e+00  0.000000e+00  0.000000e+00\n",
      "25%    7.502218e+05  1.400000e+01  0.000000e+00  0.000000e+00\n",
      "50%    1.500444e+06  2.750000e+01  1.100000e+01  0.000000e+00\n",
      "75%    2.250665e+06  4.100000e+01  1.958473e+02  0.000000e+00\n",
      "max    3.000887e+06  5.400000e+01  1.247170e+05  7.410000e+02\n",
      "============================================================\n",
      "\n",
      "Test dataset summary statistics:\n",
      "---------------------------------------------\n",
      "                 id     store_nbr   onpromotion\n",
      "count  2.851200e+04  28512.000000  28512.000000\n",
      "mean   3.015144e+06     27.500000      6.965383\n",
      "std    8.230850e+03     15.586057     20.683952\n",
      "min    3.000888e+06      1.000000      0.000000\n",
      "25%    3.008016e+06     14.000000      0.000000\n",
      "50%    3.015144e+06     27.500000      0.000000\n",
      "75%    3.022271e+06     41.000000      6.000000\n",
      "max    3.029399e+06     54.000000    646.000000\n",
      "============================================================\n",
      "\n",
      "Holiday events dataset summary statistics:\n",
      "---------------------------------------------\n",
      "                       date     type    locale locale_name description  \\\n",
      "count                   350      350       350         350         350   \n",
      "unique                  312        6         3          24         103   \n",
      "top     2014-06-25 00:00:00  Holiday  National     Ecuador    Carnaval   \n",
      "freq                      4      221       174         174          10   \n",
      "first   2012-03-02 00:00:00      NaN       NaN         NaN         NaN   \n",
      "last    2017-12-26 00:00:00      NaN       NaN         NaN         NaN   \n",
      "\n",
      "       transferred  \n",
      "count          350  \n",
      "unique           2  \n",
      "top          False  \n",
      "freq           338  \n",
      "first          NaN  \n",
      "last           NaN  \n",
      "============================================================\n",
      "\n",
      "Oil dataset summary statistics:\n",
      "---------------------------------------------\n",
      "        dcoilwtico\n",
      "count  1175.000000\n",
      "mean     67.714366\n",
      "std      25.630476\n",
      "min      26.190001\n",
      "25%      46.405001\n",
      "50%      53.189999\n",
      "75%      95.660000\n",
      "max     110.620003\n",
      "============================================================\n",
      "\n",
      "Stores dataset summary statistics:\n",
      "---------------------------------------------\n",
      "       store_nbr    cluster\n",
      "count  54.000000  54.000000\n",
      "mean   27.500000   8.481481\n",
      "std    15.732133   4.693395\n",
      "min     1.000000   1.000000\n",
      "25%    14.250000   4.000000\n",
      "50%    27.500000   8.500000\n",
      "75%    40.750000  13.000000\n",
      "max    54.000000  17.000000\n",
      "============================================================\n",
      "\n",
      "Transactions dataset summary statistics:\n",
      "---------------------------------------------\n",
      "          store_nbr  transactions\n",
      "count  83488.000000  83488.000000\n",
      "mean      26.939237   1694.602158\n",
      "std       15.608204    963.286644\n",
      "min        1.000000      5.000000\n",
      "25%       13.000000   1046.000000\n",
      "50%       27.000000   1393.000000\n",
      "75%       40.000000   2079.000000\n",
      "max       54.000000   8359.000000\n",
      "============================================================\n",
      "\n"
     ]
    }
   ],
   "source": [
    "# Checking for the summary statistics of the datasets \n",
    "datasets = {'train': train_df, 'test': test_df, 'holiday events': holidays_events_df, 'oil': oil_df, 'stores': stores_df, 'transactions': transactions_df}\n",
    "\n",
    "for name, data in datasets.items():\n",
    "    print(f\"{name.capitalize()} dataset summary statistics:\")\n",
    "    print('---'*15)\n",
    "    print(data.describe())\n",
    "    print('==='*20)\n",
    "    print()"
   ]
  },
  {
   "cell_type": "markdown",
   "metadata": {},
   "source": [
    "### v. Merging The Train Dataset with the Stores, Transactions, Holiday Events and Oil Datasets"
   ]
  },
  {
   "cell_type": "code",
   "execution_count": 20,
   "metadata": {},
   "outputs": [
    {
     "data": {
      "text/html": [
       "<div>\n",
       "<style scoped>\n",
       "    .dataframe tbody tr th:only-of-type {\n",
       "        vertical-align: middle;\n",
       "    }\n",
       "\n",
       "    .dataframe tbody tr th {\n",
       "        vertical-align: top;\n",
       "    }\n",
       "\n",
       "    .dataframe thead th {\n",
       "        text-align: right;\n",
       "    }\n",
       "</style>\n",
       "<table border=\"1\" class=\"dataframe\">\n",
       "  <thead>\n",
       "    <tr style=\"text-align: right;\">\n",
       "      <th></th>\n",
       "      <th>id</th>\n",
       "      <th>date</th>\n",
       "      <th>store_nbr</th>\n",
       "      <th>family</th>\n",
       "      <th>sales</th>\n",
       "      <th>onpromotion</th>\n",
       "      <th>city</th>\n",
       "      <th>state</th>\n",
       "      <th>type_x</th>\n",
       "      <th>cluster</th>\n",
       "      <th>transactions</th>\n",
       "      <th>type_y</th>\n",
       "      <th>locale</th>\n",
       "      <th>locale_name</th>\n",
       "      <th>description</th>\n",
       "      <th>transferred</th>\n",
       "      <th>dcoilwtico</th>\n",
       "    </tr>\n",
       "  </thead>\n",
       "  <tbody>\n",
       "    <tr>\n",
       "      <th>0</th>\n",
       "      <td>0</td>\n",
       "      <td>2013-01-01</td>\n",
       "      <td>1</td>\n",
       "      <td>AUTOMOTIVE</td>\n",
       "      <td>0.0</td>\n",
       "      <td>0</td>\n",
       "      <td>Quito</td>\n",
       "      <td>Pichincha</td>\n",
       "      <td>D</td>\n",
       "      <td>13</td>\n",
       "      <td>NaN</td>\n",
       "      <td>Holiday</td>\n",
       "      <td>National</td>\n",
       "      <td>Ecuador</td>\n",
       "      <td>Primer dia del ano</td>\n",
       "      <td>False</td>\n",
       "      <td>NaN</td>\n",
       "    </tr>\n",
       "    <tr>\n",
       "      <th>1</th>\n",
       "      <td>1</td>\n",
       "      <td>2013-01-01</td>\n",
       "      <td>1</td>\n",
       "      <td>BABY CARE</td>\n",
       "      <td>0.0</td>\n",
       "      <td>0</td>\n",
       "      <td>Quito</td>\n",
       "      <td>Pichincha</td>\n",
       "      <td>D</td>\n",
       "      <td>13</td>\n",
       "      <td>NaN</td>\n",
       "      <td>Holiday</td>\n",
       "      <td>National</td>\n",
       "      <td>Ecuador</td>\n",
       "      <td>Primer dia del ano</td>\n",
       "      <td>False</td>\n",
       "      <td>NaN</td>\n",
       "    </tr>\n",
       "    <tr>\n",
       "      <th>2</th>\n",
       "      <td>2</td>\n",
       "      <td>2013-01-01</td>\n",
       "      <td>1</td>\n",
       "      <td>BEAUTY</td>\n",
       "      <td>0.0</td>\n",
       "      <td>0</td>\n",
       "      <td>Quito</td>\n",
       "      <td>Pichincha</td>\n",
       "      <td>D</td>\n",
       "      <td>13</td>\n",
       "      <td>NaN</td>\n",
       "      <td>Holiday</td>\n",
       "      <td>National</td>\n",
       "      <td>Ecuador</td>\n",
       "      <td>Primer dia del ano</td>\n",
       "      <td>False</td>\n",
       "      <td>NaN</td>\n",
       "    </tr>\n",
       "    <tr>\n",
       "      <th>3</th>\n",
       "      <td>3</td>\n",
       "      <td>2013-01-01</td>\n",
       "      <td>1</td>\n",
       "      <td>BEVERAGES</td>\n",
       "      <td>0.0</td>\n",
       "      <td>0</td>\n",
       "      <td>Quito</td>\n",
       "      <td>Pichincha</td>\n",
       "      <td>D</td>\n",
       "      <td>13</td>\n",
       "      <td>NaN</td>\n",
       "      <td>Holiday</td>\n",
       "      <td>National</td>\n",
       "      <td>Ecuador</td>\n",
       "      <td>Primer dia del ano</td>\n",
       "      <td>False</td>\n",
       "      <td>NaN</td>\n",
       "    </tr>\n",
       "    <tr>\n",
       "      <th>4</th>\n",
       "      <td>4</td>\n",
       "      <td>2013-01-01</td>\n",
       "      <td>1</td>\n",
       "      <td>BOOKS</td>\n",
       "      <td>0.0</td>\n",
       "      <td>0</td>\n",
       "      <td>Quito</td>\n",
       "      <td>Pichincha</td>\n",
       "      <td>D</td>\n",
       "      <td>13</td>\n",
       "      <td>NaN</td>\n",
       "      <td>Holiday</td>\n",
       "      <td>National</td>\n",
       "      <td>Ecuador</td>\n",
       "      <td>Primer dia del ano</td>\n",
       "      <td>False</td>\n",
       "      <td>NaN</td>\n",
       "    </tr>\n",
       "  </tbody>\n",
       "</table>\n",
       "</div>"
      ],
      "text/plain": [
       "   id       date  store_nbr      family  sales  onpromotion   city      state  \\\n",
       "0   0 2013-01-01          1  AUTOMOTIVE    0.0            0  Quito  Pichincha   \n",
       "1   1 2013-01-01          1   BABY CARE    0.0            0  Quito  Pichincha   \n",
       "2   2 2013-01-01          1      BEAUTY    0.0            0  Quito  Pichincha   \n",
       "3   3 2013-01-01          1   BEVERAGES    0.0            0  Quito  Pichincha   \n",
       "4   4 2013-01-01          1       BOOKS    0.0            0  Quito  Pichincha   \n",
       "\n",
       "  type_x  cluster  transactions   type_y    locale locale_name  \\\n",
       "0      D       13           NaN  Holiday  National     Ecuador   \n",
       "1      D       13           NaN  Holiday  National     Ecuador   \n",
       "2      D       13           NaN  Holiday  National     Ecuador   \n",
       "3      D       13           NaN  Holiday  National     Ecuador   \n",
       "4      D       13           NaN  Holiday  National     Ecuador   \n",
       "\n",
       "          description transferred  dcoilwtico  \n",
       "0  Primer dia del ano       False         NaN  \n",
       "1  Primer dia del ano       False         NaN  \n",
       "2  Primer dia del ano       False         NaN  \n",
       "3  Primer dia del ano       False         NaN  \n",
       "4  Primer dia del ano       False         NaN  "
      ]
     },
     "execution_count": 20,
     "metadata": {},
     "output_type": "execute_result"
    }
   ],
   "source": [
    "# Merging the common columns ('store_nbr' and 'date') in the datasets using the merge() function\n",
    "# Merge train_df with stores_df based on 'store_nbr' column\n",
    "merged_df1 = train_df.merge(stores_df, on='store_nbr', how='left')\n",
    "\n",
    "# Merge merged_df1 with transactions_df based on 'date' and 'store_nbr' columns\n",
    "merged_df2 = merged_df1.merge(transactions_df, on=['date', 'store_nbr'], how='left')\n",
    "\n",
    "# Merge merged_df2 with holidays_events_df based on 'date' column\n",
    "merged_df3 = merged_df2.merge(holidays_events_df, on='date', how='left')\n",
    "\n",
    "# Merge merged_df3 with oil_df based on 'date' column\n",
    "merged_df = merged_df3.merge(oil_df, on='date', how='left')\n",
    "\n",
    "# View the first five rows of the merged dataset\n",
    "merged_df.head()"
   ]
  },
  {
   "cell_type": "code",
   "execution_count": 21,
   "metadata": {},
   "outputs": [
    {
     "name": "stdout",
     "output_type": "stream",
     "text": [
      "<class 'pandas.core.frame.DataFrame'>\n",
      "Int64Index: 3054348 entries, 0 to 3054347\n",
      "Data columns (total 17 columns):\n",
      " #   Column        Dtype         \n",
      "---  ------        -----         \n",
      " 0   id            int64         \n",
      " 1   date          datetime64[ns]\n",
      " 2   store_nbr     int64         \n",
      " 3   family        object        \n",
      " 4   sales         float64       \n",
      " 5   onpromotion   int64         \n",
      " 6   city          object        \n",
      " 7   state         object        \n",
      " 8   type_x        object        \n",
      " 9   cluster       int64         \n",
      " 10  transactions  float64       \n",
      " 11  type_y        object        \n",
      " 12  locale        object        \n",
      " 13  locale_name   object        \n",
      " 14  description   object        \n",
      " 15  transferred   object        \n",
      " 16  dcoilwtico    float64       \n",
      "dtypes: datetime64[ns](1), float64(3), int64(4), object(9)\n",
      "memory usage: 419.5+ MB\n"
     ]
    }
   ],
   "source": [
    "# Check the column information of the merged dataset\n",
    "merged_df.info()"
   ]
  },
  {
   "cell_type": "markdown",
   "metadata": {},
   "source": [
    "Two columns have been renamed as a result of the merging, type_x and type_y"
   ]
  },
  {
   "cell_type": "code",
   "execution_count": 22,
   "metadata": {},
   "outputs": [
    {
     "name": "stdout",
     "output_type": "stream",
     "text": [
      "Unique values of 'type_x':\n",
      "['D' 'C' 'B' 'E' 'A']\n",
      "\n",
      "Unique values of 'type_y':\n",
      "['Holiday' nan 'Work Day' 'Additional' 'Event' 'Transfer' 'Bridge']\n"
     ]
    }
   ],
   "source": [
    "# Check the unique values of the two unknown columns\n",
    "print(\"Unique values of 'type_x':\")\n",
    "print(merged_df['type_x'].unique())\n",
    "print()\n",
    "print(\"Unique values of 'type_y':\")\n",
    "print(merged_df['type_y'].unique())"
   ]
  },
  {
   "cell_type": "markdown",
   "metadata": {},
   "source": [
    "- The type_x column represents the store type.\n",
    "- The type_y column represents the holiday type."
   ]
  },
  {
   "cell_type": "code",
   "execution_count": 23,
   "metadata": {},
   "outputs": [
    {
     "data": {
      "text/html": [
       "<div>\n",
       "<style scoped>\n",
       "    .dataframe tbody tr th:only-of-type {\n",
       "        vertical-align: middle;\n",
       "    }\n",
       "\n",
       "    .dataframe tbody tr th {\n",
       "        vertical-align: top;\n",
       "    }\n",
       "\n",
       "    .dataframe thead th {\n",
       "        text-align: right;\n",
       "    }\n",
       "</style>\n",
       "<table border=\"1\" class=\"dataframe\">\n",
       "  <thead>\n",
       "    <tr style=\"text-align: right;\">\n",
       "      <th></th>\n",
       "      <th>id</th>\n",
       "      <th>date</th>\n",
       "      <th>store_nbr</th>\n",
       "      <th>family</th>\n",
       "      <th>sales</th>\n",
       "      <th>onpromotion</th>\n",
       "      <th>city</th>\n",
       "      <th>state</th>\n",
       "      <th>store_type</th>\n",
       "      <th>cluster</th>\n",
       "      <th>transactions</th>\n",
       "      <th>holiday_type</th>\n",
       "      <th>locale</th>\n",
       "      <th>locale_name</th>\n",
       "      <th>description</th>\n",
       "      <th>transferred</th>\n",
       "      <th>dcoilwtico</th>\n",
       "    </tr>\n",
       "  </thead>\n",
       "  <tbody>\n",
       "    <tr>\n",
       "      <th>0</th>\n",
       "      <td>0</td>\n",
       "      <td>2013-01-01</td>\n",
       "      <td>1</td>\n",
       "      <td>AUTOMOTIVE</td>\n",
       "      <td>0.0</td>\n",
       "      <td>0</td>\n",
       "      <td>Quito</td>\n",
       "      <td>Pichincha</td>\n",
       "      <td>D</td>\n",
       "      <td>13</td>\n",
       "      <td>NaN</td>\n",
       "      <td>Holiday</td>\n",
       "      <td>National</td>\n",
       "      <td>Ecuador</td>\n",
       "      <td>Primer dia del ano</td>\n",
       "      <td>False</td>\n",
       "      <td>NaN</td>\n",
       "    </tr>\n",
       "    <tr>\n",
       "      <th>1</th>\n",
       "      <td>1</td>\n",
       "      <td>2013-01-01</td>\n",
       "      <td>1</td>\n",
       "      <td>BABY CARE</td>\n",
       "      <td>0.0</td>\n",
       "      <td>0</td>\n",
       "      <td>Quito</td>\n",
       "      <td>Pichincha</td>\n",
       "      <td>D</td>\n",
       "      <td>13</td>\n",
       "      <td>NaN</td>\n",
       "      <td>Holiday</td>\n",
       "      <td>National</td>\n",
       "      <td>Ecuador</td>\n",
       "      <td>Primer dia del ano</td>\n",
       "      <td>False</td>\n",
       "      <td>NaN</td>\n",
       "    </tr>\n",
       "    <tr>\n",
       "      <th>2</th>\n",
       "      <td>2</td>\n",
       "      <td>2013-01-01</td>\n",
       "      <td>1</td>\n",
       "      <td>BEAUTY</td>\n",
       "      <td>0.0</td>\n",
       "      <td>0</td>\n",
       "      <td>Quito</td>\n",
       "      <td>Pichincha</td>\n",
       "      <td>D</td>\n",
       "      <td>13</td>\n",
       "      <td>NaN</td>\n",
       "      <td>Holiday</td>\n",
       "      <td>National</td>\n",
       "      <td>Ecuador</td>\n",
       "      <td>Primer dia del ano</td>\n",
       "      <td>False</td>\n",
       "      <td>NaN</td>\n",
       "    </tr>\n",
       "    <tr>\n",
       "      <th>3</th>\n",
       "      <td>3</td>\n",
       "      <td>2013-01-01</td>\n",
       "      <td>1</td>\n",
       "      <td>BEVERAGES</td>\n",
       "      <td>0.0</td>\n",
       "      <td>0</td>\n",
       "      <td>Quito</td>\n",
       "      <td>Pichincha</td>\n",
       "      <td>D</td>\n",
       "      <td>13</td>\n",
       "      <td>NaN</td>\n",
       "      <td>Holiday</td>\n",
       "      <td>National</td>\n",
       "      <td>Ecuador</td>\n",
       "      <td>Primer dia del ano</td>\n",
       "      <td>False</td>\n",
       "      <td>NaN</td>\n",
       "    </tr>\n",
       "    <tr>\n",
       "      <th>4</th>\n",
       "      <td>4</td>\n",
       "      <td>2013-01-01</td>\n",
       "      <td>1</td>\n",
       "      <td>BOOKS</td>\n",
       "      <td>0.0</td>\n",
       "      <td>0</td>\n",
       "      <td>Quito</td>\n",
       "      <td>Pichincha</td>\n",
       "      <td>D</td>\n",
       "      <td>13</td>\n",
       "      <td>NaN</td>\n",
       "      <td>Holiday</td>\n",
       "      <td>National</td>\n",
       "      <td>Ecuador</td>\n",
       "      <td>Primer dia del ano</td>\n",
       "      <td>False</td>\n",
       "      <td>NaN</td>\n",
       "    </tr>\n",
       "  </tbody>\n",
       "</table>\n",
       "</div>"
      ],
      "text/plain": [
       "   id       date  store_nbr      family  sales  onpromotion   city      state  \\\n",
       "0   0 2013-01-01          1  AUTOMOTIVE    0.0            0  Quito  Pichincha   \n",
       "1   1 2013-01-01          1   BABY CARE    0.0            0  Quito  Pichincha   \n",
       "2   2 2013-01-01          1      BEAUTY    0.0            0  Quito  Pichincha   \n",
       "3   3 2013-01-01          1   BEVERAGES    0.0            0  Quito  Pichincha   \n",
       "4   4 2013-01-01          1       BOOKS    0.0            0  Quito  Pichincha   \n",
       "\n",
       "  store_type  cluster  transactions holiday_type    locale locale_name  \\\n",
       "0          D       13           NaN      Holiday  National     Ecuador   \n",
       "1          D       13           NaN      Holiday  National     Ecuador   \n",
       "2          D       13           NaN      Holiday  National     Ecuador   \n",
       "3          D       13           NaN      Holiday  National     Ecuador   \n",
       "4          D       13           NaN      Holiday  National     Ecuador   \n",
       "\n",
       "          description transferred  dcoilwtico  \n",
       "0  Primer dia del ano       False         NaN  \n",
       "1  Primer dia del ano       False         NaN  \n",
       "2  Primer dia del ano       False         NaN  \n",
       "3  Primer dia del ano       False         NaN  \n",
       "4  Primer dia del ano       False         NaN  "
      ]
     },
     "execution_count": 23,
     "metadata": {},
     "output_type": "execute_result"
    }
   ],
   "source": [
    "# Renaming the columns with the approapriate names\n",
    "merged_df = merged_df.rename(columns={\"type_x\": \"store_type\", \"type_y\": \"holiday_type\"})\n",
    "merged_df.head()"
   ]
  },
  {
   "cell_type": "code",
   "execution_count": 24,
   "metadata": {},
   "outputs": [
    {
     "data": {
      "text/html": [
       "<div>\n",
       "<style scoped>\n",
       "    .dataframe tbody tr th:only-of-type {\n",
       "        vertical-align: middle;\n",
       "    }\n",
       "\n",
       "    .dataframe tbody tr th {\n",
       "        vertical-align: top;\n",
       "    }\n",
       "\n",
       "    .dataframe thead th {\n",
       "        text-align: right;\n",
       "    }\n",
       "</style>\n",
       "<table border=\"1\" class=\"dataframe\">\n",
       "  <thead>\n",
       "    <tr style=\"text-align: right;\">\n",
       "      <th></th>\n",
       "      <th>date</th>\n",
       "      <th>store_nbr</th>\n",
       "      <th>family</th>\n",
       "      <th>sales</th>\n",
       "      <th>onpromotion</th>\n",
       "      <th>city</th>\n",
       "      <th>state</th>\n",
       "      <th>store_type</th>\n",
       "      <th>cluster</th>\n",
       "      <th>transactions</th>\n",
       "      <th>holiday_type</th>\n",
       "      <th>locale</th>\n",
       "      <th>locale_name</th>\n",
       "      <th>description</th>\n",
       "      <th>transferred</th>\n",
       "      <th>dcoilwtico</th>\n",
       "    </tr>\n",
       "  </thead>\n",
       "  <tbody>\n",
       "    <tr>\n",
       "      <th>0</th>\n",
       "      <td>2013-01-01</td>\n",
       "      <td>1</td>\n",
       "      <td>AUTOMOTIVE</td>\n",
       "      <td>0.0</td>\n",
       "      <td>0</td>\n",
       "      <td>Quito</td>\n",
       "      <td>Pichincha</td>\n",
       "      <td>D</td>\n",
       "      <td>13</td>\n",
       "      <td>NaN</td>\n",
       "      <td>Holiday</td>\n",
       "      <td>National</td>\n",
       "      <td>Ecuador</td>\n",
       "      <td>Primer dia del ano</td>\n",
       "      <td>False</td>\n",
       "      <td>NaN</td>\n",
       "    </tr>\n",
       "    <tr>\n",
       "      <th>1</th>\n",
       "      <td>2013-01-01</td>\n",
       "      <td>1</td>\n",
       "      <td>BABY CARE</td>\n",
       "      <td>0.0</td>\n",
       "      <td>0</td>\n",
       "      <td>Quito</td>\n",
       "      <td>Pichincha</td>\n",
       "      <td>D</td>\n",
       "      <td>13</td>\n",
       "      <td>NaN</td>\n",
       "      <td>Holiday</td>\n",
       "      <td>National</td>\n",
       "      <td>Ecuador</td>\n",
       "      <td>Primer dia del ano</td>\n",
       "      <td>False</td>\n",
       "      <td>NaN</td>\n",
       "    </tr>\n",
       "    <tr>\n",
       "      <th>2</th>\n",
       "      <td>2013-01-01</td>\n",
       "      <td>1</td>\n",
       "      <td>BEAUTY</td>\n",
       "      <td>0.0</td>\n",
       "      <td>0</td>\n",
       "      <td>Quito</td>\n",
       "      <td>Pichincha</td>\n",
       "      <td>D</td>\n",
       "      <td>13</td>\n",
       "      <td>NaN</td>\n",
       "      <td>Holiday</td>\n",
       "      <td>National</td>\n",
       "      <td>Ecuador</td>\n",
       "      <td>Primer dia del ano</td>\n",
       "      <td>False</td>\n",
       "      <td>NaN</td>\n",
       "    </tr>\n",
       "    <tr>\n",
       "      <th>3</th>\n",
       "      <td>2013-01-01</td>\n",
       "      <td>1</td>\n",
       "      <td>BEVERAGES</td>\n",
       "      <td>0.0</td>\n",
       "      <td>0</td>\n",
       "      <td>Quito</td>\n",
       "      <td>Pichincha</td>\n",
       "      <td>D</td>\n",
       "      <td>13</td>\n",
       "      <td>NaN</td>\n",
       "      <td>Holiday</td>\n",
       "      <td>National</td>\n",
       "      <td>Ecuador</td>\n",
       "      <td>Primer dia del ano</td>\n",
       "      <td>False</td>\n",
       "      <td>NaN</td>\n",
       "    </tr>\n",
       "    <tr>\n",
       "      <th>4</th>\n",
       "      <td>2013-01-01</td>\n",
       "      <td>1</td>\n",
       "      <td>BOOKS</td>\n",
       "      <td>0.0</td>\n",
       "      <td>0</td>\n",
       "      <td>Quito</td>\n",
       "      <td>Pichincha</td>\n",
       "      <td>D</td>\n",
       "      <td>13</td>\n",
       "      <td>NaN</td>\n",
       "      <td>Holiday</td>\n",
       "      <td>National</td>\n",
       "      <td>Ecuador</td>\n",
       "      <td>Primer dia del ano</td>\n",
       "      <td>False</td>\n",
       "      <td>NaN</td>\n",
       "    </tr>\n",
       "  </tbody>\n",
       "</table>\n",
       "</div>"
      ],
      "text/plain": [
       "        date  store_nbr      family  sales  onpromotion   city      state  \\\n",
       "0 2013-01-01          1  AUTOMOTIVE    0.0            0  Quito  Pichincha   \n",
       "1 2013-01-01          1   BABY CARE    0.0            0  Quito  Pichincha   \n",
       "2 2013-01-01          1      BEAUTY    0.0            0  Quito  Pichincha   \n",
       "3 2013-01-01          1   BEVERAGES    0.0            0  Quito  Pichincha   \n",
       "4 2013-01-01          1       BOOKS    0.0            0  Quito  Pichincha   \n",
       "\n",
       "  store_type  cluster  transactions holiday_type    locale locale_name  \\\n",
       "0          D       13           NaN      Holiday  National     Ecuador   \n",
       "1          D       13           NaN      Holiday  National     Ecuador   \n",
       "2          D       13           NaN      Holiday  National     Ecuador   \n",
       "3          D       13           NaN      Holiday  National     Ecuador   \n",
       "4          D       13           NaN      Holiday  National     Ecuador   \n",
       "\n",
       "          description transferred  dcoilwtico  \n",
       "0  Primer dia del ano       False         NaN  \n",
       "1  Primer dia del ano       False         NaN  \n",
       "2  Primer dia del ano       False         NaN  \n",
       "3  Primer dia del ano       False         NaN  \n",
       "4  Primer dia del ano       False         NaN  "
      ]
     },
     "execution_count": 24,
     "metadata": {},
     "output_type": "execute_result"
    }
   ],
   "source": [
    "# Drop the 'id'column as it is not needed for our analysis\n",
    "merged_df.drop('id', axis=1, inplace=True)\n",
    "merged_df.head()"
   ]
  },
  {
   "cell_type": "code",
   "execution_count": 25,
   "metadata": {},
   "outputs": [
    {
     "data": {
      "text/html": [
       "<div>\n",
       "<style scoped>\n",
       "    .dataframe tbody tr th:only-of-type {\n",
       "        vertical-align: middle;\n",
       "    }\n",
       "\n",
       "    .dataframe tbody tr th {\n",
       "        vertical-align: top;\n",
       "    }\n",
       "\n",
       "    .dataframe thead th {\n",
       "        text-align: right;\n",
       "    }\n",
       "</style>\n",
       "<table border=\"1\" class=\"dataframe\">\n",
       "  <thead>\n",
       "    <tr style=\"text-align: right;\">\n",
       "      <th></th>\n",
       "      <th>count</th>\n",
       "      <th>mean</th>\n",
       "      <th>std</th>\n",
       "      <th>min</th>\n",
       "      <th>25%</th>\n",
       "      <th>50%</th>\n",
       "      <th>75%</th>\n",
       "      <th>max</th>\n",
       "    </tr>\n",
       "  </thead>\n",
       "  <tbody>\n",
       "    <tr>\n",
       "      <th>store_nbr</th>\n",
       "      <td>3054348.0</td>\n",
       "      <td>27.500000</td>\n",
       "      <td>15.585787</td>\n",
       "      <td>1.000000</td>\n",
       "      <td>14.00</td>\n",
       "      <td>27.50</td>\n",
       "      <td>41.000000</td>\n",
       "      <td>54.000000</td>\n",
       "    </tr>\n",
       "    <tr>\n",
       "      <th>sales</th>\n",
       "      <td>3054348.0</td>\n",
       "      <td>359.020892</td>\n",
       "      <td>1107.285897</td>\n",
       "      <td>0.000000</td>\n",
       "      <td>0.00</td>\n",
       "      <td>11.00</td>\n",
       "      <td>196.011000</td>\n",
       "      <td>124717.000000</td>\n",
       "    </tr>\n",
       "    <tr>\n",
       "      <th>onpromotion</th>\n",
       "      <td>3054348.0</td>\n",
       "      <td>2.617480</td>\n",
       "      <td>12.254939</td>\n",
       "      <td>0.000000</td>\n",
       "      <td>0.00</td>\n",
       "      <td>0.00</td>\n",
       "      <td>0.000000</td>\n",
       "      <td>741.000000</td>\n",
       "    </tr>\n",
       "    <tr>\n",
       "      <th>cluster</th>\n",
       "      <td>3054348.0</td>\n",
       "      <td>8.481481</td>\n",
       "      <td>4.649735</td>\n",
       "      <td>1.000000</td>\n",
       "      <td>4.00</td>\n",
       "      <td>8.50</td>\n",
       "      <td>13.000000</td>\n",
       "      <td>17.000000</td>\n",
       "    </tr>\n",
       "    <tr>\n",
       "      <th>transactions</th>\n",
       "      <td>2805231.0</td>\n",
       "      <td>1697.071441</td>\n",
       "      <td>966.831652</td>\n",
       "      <td>5.000000</td>\n",
       "      <td>1046.00</td>\n",
       "      <td>1395.00</td>\n",
       "      <td>2081.000000</td>\n",
       "      <td>8359.000000</td>\n",
       "    </tr>\n",
       "    <tr>\n",
       "      <th>dcoilwtico</th>\n",
       "      <td>2099196.0</td>\n",
       "      <td>68.015874</td>\n",
       "      <td>25.691342</td>\n",
       "      <td>26.190001</td>\n",
       "      <td>46.41</td>\n",
       "      <td>53.43</td>\n",
       "      <td>95.809998</td>\n",
       "      <td>110.620003</td>\n",
       "    </tr>\n",
       "  </tbody>\n",
       "</table>\n",
       "</div>"
      ],
      "text/plain": [
       "                  count         mean          std        min      25%  \\\n",
       "store_nbr     3054348.0    27.500000    15.585787   1.000000    14.00   \n",
       "sales         3054348.0   359.020892  1107.285897   0.000000     0.00   \n",
       "onpromotion   3054348.0     2.617480    12.254939   0.000000     0.00   \n",
       "cluster       3054348.0     8.481481     4.649735   1.000000     4.00   \n",
       "transactions  2805231.0  1697.071441   966.831652   5.000000  1046.00   \n",
       "dcoilwtico    2099196.0    68.015874    25.691342  26.190001    46.41   \n",
       "\n",
       "                  50%          75%            max  \n",
       "store_nbr       27.50    41.000000      54.000000  \n",
       "sales           11.00   196.011000  124717.000000  \n",
       "onpromotion      0.00     0.000000     741.000000  \n",
       "cluster          8.50    13.000000      17.000000  \n",
       "transactions  1395.00  2081.000000    8359.000000  \n",
       "dcoilwtico      53.43    95.809998     110.620003  "
      ]
     },
     "execution_count": 25,
     "metadata": {},
     "output_type": "execute_result"
    }
   ],
   "source": [
    "# Generate summary statistics and transpose the rows and columns of the resultant DataFrame.\n",
    "# Transposing flips the DataFrame (the rows become columns and the columns become rows) for better readability\n",
    "merged_df.describe().T"
   ]
  },
  {
   "cell_type": "markdown",
   "metadata": {},
   "source": [
    "### vi. Checking for Duplicate Values in The Datasets"
   ]
  },
  {
   "cell_type": "code",
   "execution_count": 26,
   "metadata": {},
   "outputs": [
    {
     "data": {
      "text/plain": [
       "0"
      ]
     },
     "execution_count": 26,
     "metadata": {},
     "output_type": "execute_result"
    }
   ],
   "source": [
    "# Check for duplicate values in the merged dataset\n",
    "duplicate_rows_merged = merged_df.duplicated()\n",
    "duplicate_rows_merged.sum()"
   ]
  },
  {
   "cell_type": "code",
   "execution_count": 27,
   "metadata": {},
   "outputs": [
    {
     "data": {
      "text/plain": [
       "0"
      ]
     },
     "execution_count": 27,
     "metadata": {},
     "output_type": "execute_result"
    }
   ],
   "source": [
    "# Check for duplicate values in the test dataset\n",
    "duplicate_rows_test = test_df.duplicated()\n",
    "duplicate_rows_test.sum()"
   ]
  },
  {
   "cell_type": "markdown",
   "metadata": {},
   "source": [
    "There are no duplicates in the merged and test datasets"
   ]
  },
  {
   "cell_type": "markdown",
   "metadata": {},
   "source": [
    "### vii. Checking for Missing Values in The Datasets"
   ]
  },
  {
   "cell_type": "code",
   "execution_count": 28,
   "metadata": {},
   "outputs": [
    {
     "name": "stdout",
     "output_type": "stream",
     "text": [
      "Missing values in the Merged dataset:\n",
      "date                  0\n",
      "store_nbr             0\n",
      "family                0\n",
      "sales                 0\n",
      "onpromotion           0\n",
      "city                  0\n",
      "state                 0\n",
      "store_type            0\n",
      "cluster               0\n",
      "transactions     249117\n",
      "holiday_type    2551824\n",
      "locale          2551824\n",
      "locale_name     2551824\n",
      "description     2551824\n",
      "transferred     2551824\n",
      "dcoilwtico       955152\n",
      "dtype: int64\n",
      "======================================================\n",
      "\n",
      "Missing values in the Test dataset:\n",
      "id             0\n",
      "date           0\n",
      "store_nbr      0\n",
      "family         0\n",
      "onpromotion    0\n",
      "dtype: int64\n",
      "======================================================\n",
      "\n"
     ]
    }
   ],
   "source": [
    "# Check for missing values in the test and merged datasets\n",
    "datasets = {'merged': merged_df, 'test': test_df}\n",
    "\n",
    "def show_missing_values(datasets):\n",
    "    for name, data in datasets.items():\n",
    "        print(f\"Missing values in the {name.capitalize()} dataset:\")\n",
    "        print(data.isnull().sum())\n",
    "        print('===' * 18)\n",
    "        print()\n",
    "\n",
    "show_missing_values(datasets)"
   ]
  },
  {
   "cell_type": "markdown",
   "metadata": {},
   "source": [
    "Some columns in the merged dataset have several missing values. However, the test dataset does not have any missing values. "
   ]
  },
  {
   "cell_type": "code",
   "execution_count": 29,
   "metadata": {
    "scrolled": true
   },
   "outputs": [
    {
     "data": {
      "text/plain": [
       "date              0.0%\n",
       "store_nbr         0.0%\n",
       "family            0.0%\n",
       "sales             0.0%\n",
       "onpromotion       0.0%\n",
       "city              0.0%\n",
       "state             0.0%\n",
       "store_type        0.0%\n",
       "cluster           0.0%\n",
       "transactions     8.16%\n",
       "holiday_type    83.55%\n",
       "locale          83.55%\n",
       "locale_name     83.55%\n",
       "description     83.55%\n",
       "transferred     83.55%\n",
       "dcoilwtico      31.27%\n",
       "dtype: object"
      ]
     },
     "execution_count": 29,
     "metadata": {},
     "output_type": "execute_result"
    }
   ],
   "source": [
    "# Calculate the percentage of missing values in the merged dataset\n",
    "percentage_missing = (merged_df.isnull().sum() / merged_df.shape[0]) * 100\n",
    "percentage_missing.round(2).astype(str) + \"%\""
   ]
  },
  {
   "cell_type": "markdown",
   "metadata": {},
   "source": [
    "There are multiple columns with missing values:\n",
    "- The 'transactions' column has a relatively low percentage of missing values, with 8.16% of the values missing.\n",
    "- The 'holiday_type', 'locale', 'locale_name', 'description', and 'transferred' columns have a high percentage of missing values, with 83.55% of the values missing.\n",
    "- The 'dcoilwtico' column has a moderate percentage of missing values, with 31.27% of the values missing.\n",
    "\n",
    "To proceed with imputing the missing values, we can use the SimpleImputer class from scikit-learn, and select the appropriate imputation strategy for each column. For example, we can use the median strategy for imputing the missing values in the 'transactions' column, as the median is less sensitive to outliers and can provide a representative value for the central tendency in skewed distributions."
   ]
  },
  {
   "cell_type": "markdown",
   "metadata": {},
   "source": [
    "## Answering Questions and Hypothesis"
   ]
  },
  {
   "cell_type": "markdown",
   "metadata": {},
   "source": [
    "### Questions"
   ]
  },
  {
   "cell_type": "markdown",
   "metadata": {},
   "source": [
    "#### 1. Is the train dataset complete (has all the required dates)?"
   ]
  },
  {
   "cell_type": "code",
   "execution_count": 30,
   "metadata": {},
   "outputs": [
    {
     "name": "stdout",
     "output_type": "stream",
     "text": [
      "Is the train dataset complete?  False\n",
      "Missing dates:  DatetimeIndex(['2013-12-25', '2014-12-25', '2015-12-25', '2016-12-25'], dtype='datetime64[ns]', freq=None)\n"
     ]
    }
   ],
   "source": [
    "# Check if the train dataset has all the required dates\n",
    "date_range = pd.date_range(train_df['date'].min(), train_df['date'].max(), freq='D')\n",
    "missing_dates = date_range[~date_range.isin(pd.to_datetime(train_df['date']))]\n",
    "is_dataset_complete = len(missing_dates) == 0\n",
    "\n",
    "print(\"Is the train dataset complete? \", is_dataset_complete)\n",
    "print(\"Missing dates: \", missing_dates)"
   ]
  },
  {
   "cell_type": "markdown",
   "metadata": {},
   "source": [
    "#### 2. Which dates have the lowest and highest sales for each year?"
   ]
  },
  {
   "cell_type": "code",
   "execution_count": 31,
   "metadata": {},
   "outputs": [
    {
     "name": "stdout",
     "output_type": "stream",
     "text": [
      "Dates with the lowest sales for each year:\n",
      " year\n",
      "2013   2013-01-01\n",
      "2014   2014-01-01\n",
      "2015   2015-01-01\n",
      "2016   2016-01-01\n",
      "2017   2017-01-01\n",
      "Name: date, dtype: datetime64[ns]\n",
      "=============================================\n",
      "Dates with the highest sales for each year:\n",
      " year\n",
      "2013   2013-12-31\n",
      "2014   2014-12-31\n",
      "2015   2015-12-31\n",
      "2016   2016-12-31\n",
      "2017   2017-08-15\n",
      "Name: date, dtype: datetime64[ns]\n"
     ]
    }
   ],
   "source": [
    "train_df['date'] = pd.to_datetime(train_df['date'])\n",
    "train_df['year'] = train_df['date'].dt.year\n",
    "\n",
    "lowest_sales_dates = train_df.groupby('year')['date'].min()\n",
    "lowest_sales_dates\n",
    "highest_sales_dates = train_df.groupby('year')['date'].max()\n",
    "\n",
    "print(\"Dates with the lowest sales for each year:\\n\", lowest_sales_dates)\n",
    "print('==='*15)\n",
    "print(\"Dates with the highest sales for each year:\\n\", highest_sales_dates)"
   ]
  },
  {
   "cell_type": "markdown",
   "metadata": {},
   "source": [
    "#### 3. Analyze the impact of the earthquake on sales"
   ]
  },
  {
   "cell_type": "code",
   "execution_count": 32,
   "metadata": {},
   "outputs": [
    {
     "data": {
      "image/png": "[encoded data removed]",
      "text/plain": [
       "<Figure size 640x480 with 1 Axes>"
      ]
     },
     "metadata": {},
     "output_type": "display_data"
    }
   ],
   "source": [
    "# Assign the variable earthquake_date to the date the earthquake took place (April 16, 2016)\n",
    "earthquake_date = pd.to_datetime('2016-04-16')\n",
    "\n",
    "# Filter the sales data before and after the earthquake\n",
    "sales_before_earthquake = train_df[train_df['date'] < earthquake_date]['sales']\n",
    "sales_after_earthquake = train_df[train_df['date'] > earthquake_date]['sales']\n",
    "\n",
    "# Set the colormap to viridis\n",
    "colormap = cm.get_cmap('viridis')\n",
    "\n",
    "# Plot the sales before and after the earthquake\n",
    "plt.plot(sales_before_earthquake, color=colormap(0.2), label='Sales Before Earthquake')\n",
    "plt.plot(sales_after_earthquake, color=colormap(0.8), label='Sales After Earthquake')\n",
    "plt.xlabel('Time')\n",
    "plt.ylabel('Sales')\n",
    "plt.legend()\n",
    "plt.show()"
   ]
  },
  {
   "cell_type": "markdown",
   "metadata": {},
   "source": [
    "There was a surge in sales after the eathquake."
   ]
  },
  {
   "cell_type": "markdown",
   "metadata": {},
   "source": [
    "#### 4. Determine if certain groups of stores sell more products"
   ]
  },
  {
   "cell_type": "code",
   "execution_count": 33,
   "metadata": {},
   "outputs": [],
   "source": [
    "# Group by cluster and calculate the average sales\n",
    "average_sales_by_cluster = merged_df.groupby('cluster')['sales'].mean()\n",
    "\n",
    "# Group by city and calculate the average sales\n",
    "average_sales_by_city = merged_df.groupby('city')['sales'].mean()\n",
    "\n",
    "# Group by state and calculate the average sales\n",
    "average_sales_by_state = merged_df.groupby('state')['sales'].mean()\n",
    "\n",
    "# Group by store type and calculate the average sales\n",
    "average_sales_by_store_type = merged_df.groupby('store_type')['sales'].mean()\n",
    "\n",
    "# Set the number of bars in each plot\n",
    "num_bars = len(average_sales_by_cluster)\n",
    "\n",
    "# Generate the colors using the viridis palette\n",
    "colors = plt.cm.viridis(np.linspace(0, 1, num_bars))"
   ]
  },
  {
   "cell_type": "code",
   "execution_count": 34,
   "metadata": {},
   "outputs": [
    {
     "data": {
      "image/png": "[encoded data removed]",
      "text/plain": [
       "<Figure size 1000x800 with 1 Axes>"
      ]
     },
     "metadata": {},
     "output_type": "display_data"
    }
   ],
   "source": [
    "# Sort the data by average sales in descending order\n",
    "average_sales_by_cluster = average_sales_by_cluster.sort_values(ascending=False)\n",
    "\n",
    "# Plot the average sales by cluster\n",
    "plt.figure(figsize=(10, 8))\n",
    "plt.bar(average_sales_by_cluster.index, average_sales_by_cluster.values, color=colors)\n",
    "plt.xlabel('Cluster')\n",
    "plt.ylabel('Average Sales')\n",
    "plt.title('Average Sales by Cluster')\n",
    "\n",
    "# Set the x-tick labels as integers\n",
    "plt.xticks(range(1, len(average_sales_by_cluster.index) + 1))\n",
    "plt.show()"
   ]
  },
  {
   "cell_type": "markdown",
   "metadata": {},
   "source": [
    "The cluster with the highest number of stores is Cluster 5, followed by Clusters 14, 8, 11 and 12. These clusters have a significantly larger number of stores compared to the others."
   ]
  },
  {
   "cell_type": "code",
   "execution_count": 35,
   "metadata": {},
   "outputs": [
    {
     "data": {
      "image/png": "[encoded data removed]",
      "text/plain": [
       "<Figure size 800x800 with 1 Axes>"
      ]
     },
     "metadata": {},
     "output_type": "display_data"
    }
   ],
   "source": [
    "# Sort the data by average sales in descending order\n",
    "average_sales_by_city = average_sales_by_city.sort_values(ascending=True)\n",
    "\n",
    "# Plot the average sales by city horizontally\n",
    "plt.figure(figsize=(8, 8))\n",
    "plt.barh(average_sales_by_city.index, average_sales_by_city.values, color=colors)\n",
    "plt.xlabel('Average Sales')\n",
    "plt.ylabel('City')\n",
    "plt.title('Average Sales by City')\n",
    "plt.show()"
   ]
  },
  {
   "cell_type": "markdown",
   "metadata": {},
   "source": [
    "Quito has the highest number of stores, significantly surpassing other cities.\n",
    "Cayambe is the second most populated city in terms of stores followed by Ambato, Daule and Loja. Some cities have a moderate number of stores while others have a lower number of stores. Puyo has the lowest number of sales."
   ]
  },
  {
   "cell_type": "code",
   "execution_count": 36,
   "metadata": {},
   "outputs": [
    {
     "data": {
      "image/png": "[encoded data removed]",
      "text/plain": [
       "<Figure size 800x600 with 1 Axes>"
      ]
     },
     "metadata": {},
     "output_type": "display_data"
    }
   ],
   "source": [
    "# Sort the data by average sales in descending order\n",
    "average_sales_by_state = average_sales_by_state.sort_values(ascending=True)\n",
    "\n",
    "# Plot the average sales by state\n",
    "plt.figure(figsize=(8, 6))\n",
    "plt.barh(average_sales_by_state.index, average_sales_by_state.values, color=colors)\n",
    "plt.xlabel('State')\n",
    "plt.ylabel('Average Sales')\n",
    "plt.title('Average Sales by State')\n",
    "plt.xticks(rotation=45)\n",
    "plt.show()"
   ]
  },
  {
   "cell_type": "markdown",
   "metadata": {},
   "source": [
    "Pichincha has the highest number of stores, primarily due to the presence of Quito, the capital city.\n",
    "Guayas is the second most populous state in terms of stores, with Guayaquil being a major city.\n",
    "Santo Domingo de los Tsachilas, Azuay, Manabi, Cotopaxi, Tungurahua, Los Rios, El Oro, Chimborazo, Imbabura, Bolivar, Pastaza, Santa Elena, and Loja have a moderate number of stores."
   ]
  },
  {
   "cell_type": "code",
   "execution_count": 37,
   "metadata": {},
   "outputs": [
    {
     "data": {
      "image/png": "[encoded data removed]",
      "text/plain": [
       "<Figure size 640x480 with 1 Axes>"
      ]
     },
     "metadata": {},
     "output_type": "display_data"
    }
   ],
   "source": [
    "# Plot the average sales by store type\n",
    "plt.bar(average_sales_by_store_type.index, average_sales_by_store_type.values, color=colors)\n",
    "plt.xlabel('Store Type')\n",
    "plt.ylabel('Average Sales')\n",
    "plt.title('Average Sales by Store Type')\n",
    "plt.show()"
   ]
  },
  {
   "cell_type": "markdown",
   "metadata": {},
   "source": [
    "The store type with the highest average sales is type A followed by Type D. Store Type C has the lowest average sales."
   ]
  },
  {
   "cell_type": "markdown",
   "metadata": {},
   "source": [
    "#### 5. Are sales affected by promotions, oil prices and holidays?"
   ]
  },
  {
   "cell_type": "code",
   "execution_count": 38,
   "metadata": {},
   "outputs": [
    {
     "name": "stdout",
     "output_type": "stream",
     "text": [
      "Correlation between Sales and Promotions: 0.3617646036210986\n",
      "Correlation between Sales and Oil Prices: -0.049346764970357004\n",
      "Correlation between Sales and Holidays: -0.0001765034508595454\n"
     ]
    }
   ],
   "source": [
    "# Calculate correlations between sales and promotions, oil prices, holidays\n",
    "corr_sales_promotions = merged_df['sales'].corr(train_df['onpromotion'])\n",
    "corr_sales_oil = train_df['sales'].corr(oil_df['dcoilwtico'])\n",
    "merged_df = pd.merge(train_df, holidays_events_df, on='date', how='left')\n",
    "corr_sales_holidays = merged_df['sales'].corr(merged_df['type'] == 'Holiday')\n",
    "\n",
    "# Print the correlation values\n",
    "print(f\"Correlation between Sales and Promotions: {corr_sales_promotions}\")\n",
    "print(f\"Correlation between Sales and Oil Prices: {corr_sales_oil}\")\n",
    "print(f\"Correlation between Sales and Holidays: {corr_sales_holidays}\")"
   ]
  },
  {
   "cell_type": "markdown",
   "metadata": {},
   "source": [
    "Promotions:\n",
    "- There is a positive correlation of approximately 0.36 between sales and promotions. This suggests that promotions have a moderate positive impact on sales. When promotions are running, there is an increased likelihood of higher sales.\n",
    "\n",
    "Oil Prices:\n",
    "- There is a weak negative correlation of approximately -0.05 between sales and oil prices. This indicates that there is a slight negative relationship between sales and oil prices. However, the correlation is close to zero, suggesting that oil prices have minimal impact on sales.\n",
    "\n",
    "Holidays:\n",
    "- There is a very weak negative correlation of approximately -0.0002 between sales and holidays. This indicates that there is almost no relationship between sales and holidays. Holidays do not seem to have a significant impact on sales.\n",
    "\n",
    "These insights suggest that promotions have a relatively stronger influence on sales compared to oil prices and holidays. While promotions positively impact sales, oil prices and holidays show minimal or no relationship with sales."
   ]
  },
  {
   "cell_type": "markdown",
   "metadata": {},
   "source": [
    "#### 6. What analysis can we get from the date and its extractable features?"
   ]
  },
  {
   "cell_type": "code",
   "execution_count": 39,
   "metadata": {},
   "outputs": [],
   "source": [
    "# Extract additional features from the date\n",
    "merged_df['day_of_week'] = merged_df['date'].dt.dayofweek\n",
    "merged_df['month'] = merged_df['date'].dt.month\n",
    "merged_df['season'] = (merged_df['month'] % 12 + 3) // 3  # Assuming a 4-season model\n",
    "merged_df['is_holiday'] = merged_df['date'].isin(holidays_events_df['date'])"
   ]
  },
  {
   "cell_type": "code",
   "execution_count": 40,
   "metadata": {},
   "outputs": [
    {
     "data": {
      "image/png": "[encoded data removed]",
      "text/plain": [
       "<Figure size 640x480 with 1 Axes>"
      ]
     },
     "metadata": {},
     "output_type": "display_data"
    }
   ],
   "source": [
    "# Perform analysis using these extracted features\n",
    "# Plot average sales by day of the week\n",
    "average_sales_by_dayofweek = merged_df.groupby('day_of_week')['sales'].mean()\n",
    "\n",
    "plt.bar(average_sales_by_dayofweek.index, average_sales_by_dayofweek.values, color=colors)\n",
    "plt.xlabel('Day of the Week')\n",
    "plt.ylabel('Average Sales')\n",
    "plt.title('Average Sales by Day of the Week')\n",
    "plt.xticks(range(7), ['Mon', 'Tue', 'Wed', 'Thu', 'Fri', 'Sat', 'Sun'])\n",
    "plt.show()"
   ]
  },
  {
   "cell_type": "markdown",
   "metadata": {},
   "source": [
    "The highest number of sales are recorded during the weekends with Sunday recording the most sales."
   ]
  },
  {
   "cell_type": "code",
   "execution_count": 41,
   "metadata": {},
   "outputs": [
    {
     "data": {
      "image/png": "[encoded data removed]",
      "text/plain": [
       "<Figure size 640x480 with 1 Axes>"
      ]
     },
     "metadata": {},
     "output_type": "display_data"
    }
   ],
   "source": [
    "# Plot average sales by month\n",
    "average_sales_by_month = merged_df.groupby('month')['sales'].mean()\n",
    "\n",
    "plt.plot(average_sales_by_month.index, average_sales_by_month.values, marker='o')\n",
    "plt.xlabel('Month')\n",
    "plt.ylabel('Average Sales')\n",
    "plt.title('Average Sales by Month')\n",
    "plt.xticks(range(1, 13))\n",
    "plt.show()"
   ]
  },
  {
   "cell_type": "markdown",
   "metadata": {},
   "source": [
    "December has the highest average sales followed by July. \n",
    "The lowest average sales are recorded in the month of February."
   ]
  },
  {
   "cell_type": "code",
   "execution_count": 42,
   "metadata": {},
   "outputs": [
    {
     "data": {
      "image/png": "[encoded data removed]",
      "text/plain": [
       "<Figure size 640x480 with 1 Axes>"
      ]
     },
     "metadata": {},
     "output_type": "display_data"
    }
   ],
   "source": [
    "# Analyze sales patterns during holidays\n",
    "holiday_sales = merged_df.groupby('is_holiday')['sales'].mean()\n",
    "\n",
    "plt.bar(holiday_sales.index.astype(str), holiday_sales.values)\n",
    "plt.xlabel('Is Holiday')\n",
    "plt.ylabel('Average Sales')\n",
    "plt.title('Sales Patterns During Holidays')\n",
    "plt.show()"
   ]
  },
  {
   "cell_type": "markdown",
   "metadata": {},
   "source": [
    "\n",
    "Based on the plot showing sales patterns during holidays, it appears that the average sales during holidays (Is Holiday = True) are higher compared to non-holiday periods (Is Holiday = False). This suggests that holidays have a positive impact on sales."
   ]
  }
 ],
 "metadata": {
  "kernelspec": {
   "display_name": "Python 3 (ipykernel)",
   "language": "python",
   "name": "python3"
  },
  "language_info": {
   "codemirror_mode": {
    "name": "ipython",
    "version": 3
   },
   "file_extension": ".py",
   "mimetype": "text/x-python",
   "name": "python",
   "nbconvert_exporter": "python",
   "pygments_lexer": "ipython3",
   "version": "3.9.13"
  }
 },
 "nbformat": 4,
 "nbformat_minor": 2
}
